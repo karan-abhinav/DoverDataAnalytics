{
  "cells": [
    {
      "cell_type": "markdown",
      "metadata": {
        "id": "MBY8lDuzmHJD"
      },
      "source": [
        "# NumPy"
      ]
    },
    {
      "cell_type": "markdown",
      "metadata": {
        "id": "G3lwP0qrmHJG"
      },
      "source": [
        "- NumPy is a Python library.\n",
        "\n",
        "- NumPy is used for working with arrays.\n",
        "\n",
        "- NumPy is short for \"Numerical Python\"."
      ]
    },
    {
      "cell_type": "code",
      "execution_count": null,
      "metadata": {
        "id": "YG-wiuRgmHJG"
      },
      "outputs": [],
      "source": [
        "pip install numpy"
      ]
    },
    {
      "cell_type": "markdown",
      "metadata": {
        "id": "SOoWy2E7mHJH"
      },
      "source": [
        "## Basic Operations"
      ]
    },
    {
      "cell_type": "code",
      "execution_count": null,
      "metadata": {
        "id": "_cQoGWaDmHJI"
      },
      "outputs": [],
      "source": [
        "import numpy as np"
      ]
    },
    {
      "cell_type": "markdown",
      "metadata": {
        "id": "X6GSkrFNmHJI"
      },
      "source": [
        "![image.png](attachment:image.png)"
      ]
    },
    {
      "cell_type": "code",
      "execution_count": null,
      "metadata": {
        "scrolled": true,
        "id": "V9DLQZijmHJJ",
        "outputId": "fe8325fa-8d72-4386-e446-790c0805183d"
      },
      "outputs": [
        {
          "name": "stdout",
          "output_type": "stream",
          "text": [
            "[1 2 3]\n"
          ]
        }
      ],
      "source": [
        "a = np.array([1,2,3])\n",
        "print(a)"
      ]
    },
    {
      "cell_type": "code",
      "execution_count": null,
      "metadata": {
        "id": "Yrc2kwSemHJK",
        "outputId": "1fee50bd-c93f-42f4-f1ae-4e0cd0fb9fa4"
      },
      "outputs": [
        {
          "data": {
            "text/plain": [
              "numpy.ndarray"
            ]
          },
          "execution_count": 81,
          "metadata": {},
          "output_type": "execute_result"
        }
      ],
      "source": [
        "type(a)"
      ]
    },
    {
      "cell_type": "code",
      "execution_count": null,
      "metadata": {
        "id": "5VdK4oiomHJK",
        "outputId": "b8f22bc9-0a96-4651-f74d-96833779ff6e"
      },
      "outputs": [
        {
          "name": "stdout",
          "output_type": "stream",
          "text": [
            "[1. 2. 3.]\n"
          ]
        }
      ],
      "source": [
        "a = np.array([1,2,3], dtype = float)\n",
        "print(a)"
      ]
    },
    {
      "cell_type": "code",
      "execution_count": null,
      "metadata": {
        "id": "bvf919w_mHJL",
        "outputId": "9d5435c3-7fcb-4bef-c4b5-3d37b4ef9962"
      },
      "outputs": [
        {
          "name": "stdout",
          "output_type": "stream",
          "text": [
            "[[1 2 3]\n",
            " [4 5 6]]\n"
          ]
        }
      ],
      "source": [
        "b = np.array([[1,2,3], [4,5,6]])\n",
        "print(b)"
      ]
    },
    {
      "cell_type": "code",
      "execution_count": null,
      "metadata": {
        "id": "Hh8tyHfamHJL",
        "outputId": "cd8e6830-1f4a-4d16-f96c-690f3422fb08"
      },
      "outputs": [
        {
          "data": {
            "text/plain": [
              "numpy.ndarray"
            ]
          },
          "execution_count": 85,
          "metadata": {},
          "output_type": "execute_result"
        }
      ],
      "source": [
        "type(b)"
      ]
    },
    {
      "cell_type": "code",
      "execution_count": null,
      "metadata": {
        "id": "bLHKFihgmHJL",
        "outputId": "20d891cb-858e-486f-b504-b839c33132ab"
      },
      "outputs": [
        {
          "name": "stdout",
          "output_type": "stream",
          "text": [
            "[[1 2 3]\n",
            " [4 5 6]\n",
            " [7 8 9]]\n"
          ]
        }
      ],
      "source": [
        "c = np.array([[1,2,3], [4,5,6], [7,8,9]])\n",
        "print(c)"
      ]
    },
    {
      "cell_type": "code",
      "execution_count": null,
      "metadata": {
        "id": "hAVHttBhmHJL",
        "outputId": "09ca6133-4d0b-4593-c4bf-57af7f72def3"
      },
      "outputs": [
        {
          "data": {
            "text/plain": [
              "1"
            ]
          },
          "execution_count": 87,
          "metadata": {},
          "output_type": "execute_result"
        }
      ],
      "source": [
        "#Get Dimensions of a numpy array\n",
        "a.ndim"
      ]
    },
    {
      "cell_type": "code",
      "execution_count": null,
      "metadata": {
        "id": "f-HYHxvvmHJM",
        "outputId": "8fd29f90-5e60-41be-cff4-400667b9d325"
      },
      "outputs": [
        {
          "data": {
            "text/plain": [
              "2"
            ]
          },
          "execution_count": 89,
          "metadata": {},
          "output_type": "execute_result"
        }
      ],
      "source": [
        "#Get Dimensions of a numpy array\n",
        "b.ndim"
      ]
    },
    {
      "cell_type": "code",
      "execution_count": null,
      "metadata": {
        "id": "SheLcE4HmHJM",
        "outputId": "2f6e590a-15ec-48a3-e66c-c6d8bcad3416"
      },
      "outputs": [
        {
          "data": {
            "text/plain": [
              "2"
            ]
          },
          "execution_count": 90,
          "metadata": {},
          "output_type": "execute_result"
        }
      ],
      "source": [
        "c.ndim"
      ]
    },
    {
      "cell_type": "code",
      "execution_count": null,
      "metadata": {
        "id": "oX-23I8hmHJM",
        "outputId": "9fbccb19-30c2-4bb2-9a6c-4feb2fd3ab61"
      },
      "outputs": [
        {
          "name": "stdout",
          "output_type": "stream",
          "text": [
            "[[[[1 2 3]\n",
            "   [4 5 6]\n",
            "   [7 8 9]]]]\n"
          ]
        }
      ],
      "source": [
        "d = np.array([[[[1,2,3], [4,5,6], [7,8,9]]]])\n",
        "print(d)"
      ]
    },
    {
      "cell_type": "code",
      "execution_count": null,
      "metadata": {
        "id": "WI_L10vjmHJM",
        "outputId": "40fdaccf-7aa3-45f3-8230-5b30fd3d7de0"
      },
      "outputs": [
        {
          "data": {
            "text/plain": [
              "4"
            ]
          },
          "execution_count": 95,
          "metadata": {},
          "output_type": "execute_result"
        }
      ],
      "source": [
        "d.ndim"
      ]
    },
    {
      "cell_type": "markdown",
      "metadata": {
        "id": "e_XZPUmPmHJM"
      },
      "source": [
        "## Why Use NumPy?"
      ]
    },
    {
      "cell_type": "markdown",
      "metadata": {
        "id": "P-BLxxb3mHJN"
      },
      "source": [
        "- In Traditional Python Programming, we have lists that serve the purpose of arrays, but they are slow to process.\n",
        "- NumPy aims to provide an array object that is up to 50x faster than traditional Python lists.\n",
        "- The array object in NumPy is called ndarray, it provides a lot of supporting functions that make working with ndarray very easy.\n",
        "- Arrays are very frequently used in data science, where speed and resources are very important."
      ]
    },
    {
      "cell_type": "markdown",
      "metadata": {
        "id": "NMD62ioHmHJN"
      },
      "source": [
        "![image.png](attachment:image.png)"
      ]
    },
    {
      "cell_type": "markdown",
      "metadata": {
        "id": "ndHTSfZimHJN"
      },
      "source": [
        "## Time taken for the loop"
      ]
    },
    {
      "cell_type": "markdown",
      "metadata": {
        "id": "iHITIrBumHJN"
      },
      "source": [
        "   "
      ]
    },
    {
      "cell_type": "markdown",
      "metadata": {
        "id": "7BCE5RqOmHJN"
      },
      "source": [
        "![image.png](attachment:image.png)"
      ]
    },
    {
      "cell_type": "code",
      "execution_count": null,
      "metadata": {
        "id": "WAVMy126mHJN",
        "outputId": "c1b5c478-ab62-45a8-9431-8a75b6afd8c2"
      },
      "outputs": [
        {
          "data": {
            "text/plain": [
              "array([1., 2., 3.])"
            ]
          },
          "execution_count": 96,
          "metadata": {},
          "output_type": "execute_result"
        }
      ],
      "source": [
        "a"
      ]
    },
    {
      "cell_type": "code",
      "execution_count": null,
      "metadata": {
        "id": "0CW74nh9mHJN",
        "outputId": "3af5550d-2615-4bd3-8101-a8a53fee64f8"
      },
      "outputs": [
        {
          "data": {
            "text/plain": [
              "(3,)"
            ]
          },
          "execution_count": 97,
          "metadata": {},
          "output_type": "execute_result"
        }
      ],
      "source": [
        "#Get a shape of a numpy array\n",
        "a.shape"
      ]
    },
    {
      "cell_type": "code",
      "execution_count": null,
      "metadata": {
        "id": "vExdGjXZmHJN",
        "outputId": "823bb333-d730-4469-c955-edcddf7c150a"
      },
      "outputs": [
        {
          "data": {
            "text/plain": [
              "array([[1, 2, 3],\n",
              "       [4, 5, 6]])"
            ]
          },
          "execution_count": 98,
          "metadata": {},
          "output_type": "execute_result"
        }
      ],
      "source": [
        "b"
      ]
    },
    {
      "cell_type": "code",
      "execution_count": null,
      "metadata": {
        "id": "_6-JtD4nmHJO",
        "outputId": "d03d77a8-2d62-4a68-fb09-3161865d92cf"
      },
      "outputs": [
        {
          "data": {
            "text/plain": [
              "(2, 3)"
            ]
          },
          "execution_count": 99,
          "metadata": {},
          "output_type": "execute_result"
        }
      ],
      "source": [
        "b.shape"
      ]
    },
    {
      "cell_type": "code",
      "execution_count": null,
      "metadata": {
        "id": "7dVNGc94mHJO",
        "outputId": "45788e2b-4612-414a-c9c6-54058163ed64"
      },
      "outputs": [
        {
          "data": {
            "text/plain": [
              "array([[1, 2, 3],\n",
              "       [4, 5, 6],\n",
              "       [7, 8, 9]])"
            ]
          },
          "execution_count": 100,
          "metadata": {},
          "output_type": "execute_result"
        }
      ],
      "source": [
        "c"
      ]
    },
    {
      "cell_type": "code",
      "execution_count": null,
      "metadata": {
        "id": "eXADw0SjmHJO",
        "outputId": "4ab7e0e9-933f-48f9-c80b-efed5561035b"
      },
      "outputs": [
        {
          "data": {
            "text/plain": [
              "(3, 3)"
            ]
          },
          "execution_count": 101,
          "metadata": {},
          "output_type": "execute_result"
        }
      ],
      "source": [
        "c.shape"
      ]
    },
    {
      "cell_type": "code",
      "execution_count": null,
      "metadata": {
        "id": "5riMaaRtmHJO",
        "outputId": "189872a8-350e-4b8c-e020-87805a01eade"
      },
      "outputs": [
        {
          "data": {
            "text/plain": [
              "array([1., 2., 3.])"
            ]
          },
          "execution_count": 24,
          "metadata": {},
          "output_type": "execute_result"
        }
      ],
      "source": [
        "a"
      ]
    },
    {
      "cell_type": "code",
      "execution_count": null,
      "metadata": {
        "id": "bz_5AmpwmHJO",
        "outputId": "8c0b51a2-96b4-4f89-8926-c08bb655d228"
      },
      "outputs": [
        {
          "data": {
            "text/plain": [
              "array([1., 2., 3.])"
            ]
          },
          "execution_count": 103,
          "metadata": {},
          "output_type": "execute_result"
        }
      ],
      "source": [
        "a"
      ]
    },
    {
      "cell_type": "code",
      "execution_count": null,
      "metadata": {
        "id": "81x7PlzymHJO",
        "outputId": "09f4fef5-862a-41a4-c5ae-2c5569f259aa"
      },
      "outputs": [
        {
          "data": {
            "text/plain": [
              "dtype('float64')"
            ]
          },
          "execution_count": 104,
          "metadata": {},
          "output_type": "execute_result"
        }
      ],
      "source": [
        "a.dtype"
      ]
    },
    {
      "cell_type": "code",
      "execution_count": null,
      "metadata": {
        "id": "kW1KSNl1mHJO",
        "outputId": "9cdba86b-41bb-4ff5-bfa3-b39603a3e59d"
      },
      "outputs": [
        {
          "name": "stdout",
          "output_type": "stream",
          "text": [
            "[1.1 2.1 3.4]\n"
          ]
        }
      ],
      "source": [
        "a_int = np.array([1.1,2.1,3.4])\n",
        "print(a_int)"
      ]
    },
    {
      "cell_type": "code",
      "execution_count": null,
      "metadata": {
        "id": "t-5VrT1KmHJP",
        "outputId": "3e9f928b-de13-4f47-9114-d76150f01bf9"
      },
      "outputs": [
        {
          "data": {
            "text/plain": [
              "dtype('float64')"
            ]
          },
          "execution_count": 111,
          "metadata": {},
          "output_type": "execute_result"
        }
      ],
      "source": [
        "a_int.dtype"
      ]
    },
    {
      "cell_type": "markdown",
      "metadata": {
        "id": "PtqfmvetmHJP"
      },
      "source": [
        "## Accessing/Changing specific elements, rows & columns etc."
      ]
    },
    {
      "cell_type": "code",
      "execution_count": null,
      "metadata": {
        "id": "3dFgAlFlmHJP",
        "outputId": "8a69f71f-77ec-4d86-8273-14678efaec20"
      },
      "outputs": [
        {
          "name": "stdout",
          "output_type": "stream",
          "text": [
            "[[ 1  2  3  4  5  6  7]\n",
            " [ 8  9 10 11 12 13 14]]\n"
          ]
        }
      ],
      "source": [
        "a = np.array([[1,2,3,4,5,6,7], [8,9,10,11,12,13,14]])\n",
        "print(a)"
      ]
    },
    {
      "cell_type": "code",
      "execution_count": null,
      "metadata": {
        "id": "8Kh6ieCQmHJP",
        "outputId": "171bb35d-e64d-4b69-dcd4-95a2e03de1f7"
      },
      "outputs": [
        {
          "data": {
            "text/plain": [
              "2"
            ]
          },
          "execution_count": 113,
          "metadata": {},
          "output_type": "execute_result"
        }
      ],
      "source": [
        "a.ndim"
      ]
    },
    {
      "cell_type": "code",
      "execution_count": null,
      "metadata": {
        "id": "Wef49vi3mHJP",
        "outputId": "f4f04078-88d5-4416-81f4-0c51ca32c5b9"
      },
      "outputs": [
        {
          "data": {
            "text/plain": [
              "4"
            ]
          },
          "execution_count": 114,
          "metadata": {},
          "output_type": "execute_result"
        }
      ],
      "source": [
        "#Get a specific element [r,c]\n",
        "a[0,3]"
      ]
    },
    {
      "cell_type": "code",
      "execution_count": null,
      "metadata": {
        "id": "SuE6CzLPmHJP",
        "outputId": "798acd24-7bf3-44f0-ddda-2bb806f33ee6"
      },
      "outputs": [
        {
          "data": {
            "text/plain": [
              "8"
            ]
          },
          "execution_count": 116,
          "metadata": {},
          "output_type": "execute_result"
        }
      ],
      "source": [
        "a[1,0]"
      ]
    },
    {
      "cell_type": "code",
      "execution_count": null,
      "metadata": {
        "id": "7jZuIJ_hmHJT",
        "outputId": "60c0c5d9-2747-4c30-d2f1-8e24c07d4389"
      },
      "outputs": [
        {
          "data": {
            "text/plain": [
              "13"
            ]
          },
          "execution_count": 117,
          "metadata": {},
          "output_type": "execute_result"
        }
      ],
      "source": [
        "a[1,5]"
      ]
    },
    {
      "cell_type": "code",
      "execution_count": null,
      "metadata": {
        "id": "DL-GxObjmHJT",
        "outputId": "ad46857d-7398-4427-f6df-dfbb327d4636"
      },
      "outputs": [
        {
          "data": {
            "text/plain": [
              "array([1, 2, 3, 4, 5, 6, 7])"
            ]
          },
          "execution_count": 118,
          "metadata": {},
          "output_type": "execute_result"
        }
      ],
      "source": [
        "#Get a specific row from a numpy array\n",
        "a[0,:]"
      ]
    },
    {
      "cell_type": "code",
      "execution_count": null,
      "metadata": {
        "id": "PF0WiOJ-mHJU",
        "outputId": "5e8b7105-3f18-4285-b5ff-d8d25a1527fa"
      },
      "outputs": [
        {
          "data": {
            "text/plain": [
              "array([1, 8])"
            ]
          },
          "execution_count": 119,
          "metadata": {},
          "output_type": "execute_result"
        }
      ],
      "source": [
        "#Get a specific column from a numpy array\n",
        "\n",
        "a[:,0]"
      ]
    },
    {
      "cell_type": "code",
      "execution_count": null,
      "metadata": {
        "id": "vfaKgaYzmHJU",
        "outputId": "752bbecb-4636-4039-c38e-acc3c28857f3"
      },
      "outputs": [
        {
          "data": {
            "text/plain": [
              "array([1, 8])"
            ]
          },
          "execution_count": 33,
          "metadata": {},
          "output_type": "execute_result"
        }
      ],
      "source": [
        "#Get a specific column from a numpy array\n",
        "a[:,0]"
      ]
    },
    {
      "cell_type": "code",
      "execution_count": null,
      "metadata": {
        "id": "0_8fTbzdmHJU",
        "outputId": "6b97c62d-93c0-407e-ea49-009e8ad5c4ca"
      },
      "outputs": [
        {
          "data": {
            "text/plain": [
              "array([[ 1,  2,  3,  4,  5,  6,  7],\n",
              "       [ 8,  9, 10, 11, 12, 13, 14]])"
            ]
          },
          "execution_count": 120,
          "metadata": {},
          "output_type": "execute_result"
        }
      ],
      "source": [
        "a"
      ]
    },
    {
      "cell_type": "code",
      "execution_count": null,
      "metadata": {
        "id": "mlTqF6jemHJU",
        "outputId": "6ff6f8eb-a158-41b4-d68e-d0e4852a13a7"
      },
      "outputs": [
        {
          "name": "stdout",
          "output_type": "stream",
          "text": [
            "[[ 1  2  3 40  5  6  7]\n",
            " [ 8  9 10 11 12 13 14]]\n"
          ]
        }
      ],
      "source": [
        "a[0,3] = 40\n",
        "print(a)"
      ]
    },
    {
      "cell_type": "code",
      "execution_count": null,
      "metadata": {
        "id": "0HI1K8wimHJU"
      },
      "outputs": [],
      "source": [
        "#Change the 5th column in 1st row to 50\n",
        "a[0,4] = 50"
      ]
    },
    {
      "cell_type": "code",
      "execution_count": null,
      "metadata": {
        "id": "NQEk9bHsmHJU",
        "outputId": "72e5ad21-167f-406e-dc34-2f357f8ef31c"
      },
      "outputs": [
        {
          "data": {
            "text/plain": [
              "array([[ 1,  2,  3, 40, 50,  6,  7],\n",
              "       [ 8,  9, 10, 11, 12, 13, 14]])"
            ]
          },
          "execution_count": 124,
          "metadata": {},
          "output_type": "execute_result"
        }
      ],
      "source": [
        "a"
      ]
    },
    {
      "cell_type": "markdown",
      "metadata": {
        "id": "6Ts3htSsmHJU"
      },
      "source": [
        "## Zeros/Ones method in NumPy"
      ]
    },
    {
      "cell_type": "code",
      "execution_count": null,
      "metadata": {
        "id": "_Z4AcmNNmHJV",
        "outputId": "8c40d0dd-f98f-4221-8951-38c72dabd3ea"
      },
      "outputs": [
        {
          "data": {
            "text/plain": [
              "array([[0., 0., 0.],\n",
              "       [0., 0., 0.],\n",
              "       [0., 0., 0.]])"
            ]
          },
          "execution_count": 125,
          "metadata": {},
          "output_type": "execute_result"
        }
      ],
      "source": [
        "np.zeros((3,3))"
      ]
    },
    {
      "cell_type": "code",
      "execution_count": null,
      "metadata": {
        "id": "IsGzzqVqmHJV",
        "outputId": "453ab829-19cb-4d67-c2b3-c18b0b6a184c"
      },
      "outputs": [
        {
          "data": {
            "text/plain": [
              "array([[1., 1., 1.],\n",
              "       [1., 1., 1.],\n",
              "       [1., 1., 1.]])"
            ]
          },
          "execution_count": 126,
          "metadata": {},
          "output_type": "execute_result"
        }
      ],
      "source": [
        "np.ones((3,3))"
      ]
    },
    {
      "cell_type": "code",
      "execution_count": null,
      "metadata": {
        "id": "0uEDmSoVmHJV",
        "outputId": "9a0fb896-fc11-41b9-8c4b-74dfe5d090ea"
      },
      "outputs": [
        {
          "data": {
            "text/plain": [
              "array([[1, 1, 1],\n",
              "       [1, 1, 1],\n",
              "       [1, 1, 1]])"
            ]
          },
          "execution_count": 127,
          "metadata": {},
          "output_type": "execute_result"
        }
      ],
      "source": [
        "np.ones((3,3), dtype='int32')"
      ]
    },
    {
      "cell_type": "code",
      "execution_count": null,
      "metadata": {
        "id": "Fm9nNnG2mHJV",
        "outputId": "f9071350-bb48-4002-b1b1-b6c7d2dd23f9"
      },
      "outputs": [
        {
          "data": {
            "text/plain": [
              "array([[50., 50., 50.],\n",
              "       [50., 50., 50.],\n",
              "       [50., 50., 50.]])"
            ]
          },
          "execution_count": 130,
          "metadata": {},
          "output_type": "execute_result"
        }
      ],
      "source": [
        "np.full((3,3), 50, dtype='float64')"
      ]
    },
    {
      "cell_type": "code",
      "execution_count": null,
      "metadata": {
        "id": "gHGwd8UnmHJV",
        "outputId": "84daebdb-ecfa-44bb-c377-ad5765a58b63"
      },
      "outputs": [
        {
          "data": {
            "text/plain": [
              "array([[50, 50, 50],\n",
              "       [50, 50, 50],\n",
              "       [50, 50, 50]])"
            ]
          },
          "execution_count": 132,
          "metadata": {},
          "output_type": "execute_result"
        }
      ],
      "source": [
        "np.full((3,3), 50, dtype='int32')"
      ]
    },
    {
      "cell_type": "code",
      "execution_count": null,
      "metadata": {
        "id": "k2qTN4B2mHJV",
        "outputId": "a84d8705-7f95-43ae-c207-476aff92dd01"
      },
      "outputs": [
        {
          "data": {
            "text/plain": [
              "array([[0.96667953, 0.78702661, 0.82848554, 0.65767022],\n",
              "       [0.22387665, 0.41185407, 0.88982046, 0.66133162],\n",
              "       [0.95794625, 0.31650624, 0.18452574, 0.43403593],\n",
              "       [0.52942536, 0.30060828, 0.79581747, 0.7989575 ]])"
            ]
          },
          "execution_count": 134,
          "metadata": {},
          "output_type": "execute_result"
        }
      ],
      "source": [
        "np.random.rand(4,4)"
      ]
    },
    {
      "cell_type": "code",
      "execution_count": null,
      "metadata": {
        "id": "hq1dyVFGmHJW",
        "outputId": "c607c105-7639-4e65-d2cb-39430c78e383"
      },
      "outputs": [
        {
          "data": {
            "text/plain": [
              "array([[-1,  3,  2],\n",
              "       [ 0,  1, -4],\n",
              "       [-4,  0, -1]])"
            ]
          },
          "execution_count": 47,
          "metadata": {},
          "output_type": "execute_result"
        }
      ],
      "source": [
        "np.random.randint(-4,4, size=(3,3))"
      ]
    },
    {
      "cell_type": "code",
      "execution_count": null,
      "metadata": {
        "id": "cmtXFYx0mHJW",
        "outputId": "ac6771da-574a-45b8-d81f-7c05589c9923"
      },
      "outputs": [
        {
          "data": {
            "text/plain": [
              "array([[1., 0., 0., 0., 0.],\n",
              "       [0., 1., 0., 0., 0.],\n",
              "       [0., 0., 1., 0., 0.],\n",
              "       [0., 0., 0., 1., 0.],\n",
              "       [0., 0., 0., 0., 1.]])"
            ]
          },
          "execution_count": 136,
          "metadata": {},
          "output_type": "execute_result"
        }
      ],
      "source": [
        "np.identity(5)"
      ]
    },
    {
      "cell_type": "markdown",
      "metadata": {
        "id": "AyNqZRzvmHJW"
      },
      "source": [
        "## Practice Questions"
      ]
    },
    {
      "cell_type": "markdown",
      "metadata": {
        "id": "5RziKTTdmHJW"
      },
      "source": [
        "## Question #1\n",
        "\n",
        "Extract all the first 3 rows of the last 5 columns in a given numpy 2D array ‘a’?"
      ]
    },
    {
      "cell_type": "code",
      "execution_count": null,
      "metadata": {
        "id": "CpMNi0j1mHJW"
      },
      "outputs": [],
      "source": [
        "2,3,4,5,6\n",
        "20,30,40,50,60\n",
        "12,12,12,12,12"
      ]
    },
    {
      "cell_type": "code",
      "execution_count": null,
      "metadata": {
        "id": "Qzhfo6UZmHJW"
      },
      "outputs": [],
      "source": [
        "a= np.array([[1,2,3,4,5,6],\n",
        "             [10,20,30,40,50,60],\n",
        "             [12,12,12,12,12,12],\n",
        "             [11,21,31,41,51,61],\n",
        "             [13,24,34,44,54,64]])"
      ]
    },
    {
      "cell_type": "code",
      "execution_count": null,
      "metadata": {
        "id": "UDvUUfsYmHJX",
        "outputId": "60e97f39-4455-4dcf-c350-76ea6b6a6f6f"
      },
      "outputs": [
        {
          "data": {
            "text/plain": [
              "array([[ 2,  3,  4,  5,  6],\n",
              "       [20, 30, 40, 50, 60],\n",
              "       [12, 12, 12, 12, 12]])"
            ]
          },
          "execution_count": 141,
          "metadata": {},
          "output_type": "execute_result"
        }
      ],
      "source": [
        "a[ :3 , -5: ]"
      ]
    },
    {
      "cell_type": "markdown",
      "metadata": {
        "id": "igfNbjb3mHJX"
      },
      "source": [
        "## Question #2\n",
        "\n",
        "Given a positive number 'n' greater than 2, create a NumPy array of size (nxn) with all zeros and ones such that the ones make a shape of \"+\"\n",
        "\n",
        "Examples:\n",
        "\n",
        "Input 1:\n",
        "\n",
        "3\n",
        "\n",
        "Output 1:\n",
        "\n",
        "[[0 1 0]\n",
        "\n",
        " [1 1 1]\n",
        "\n",
        " [0 1 0]]\n",
        "\n",
        "Input 2:\n",
        "\n",
        "5\n",
        "\n",
        "Output 1:\n",
        "\n",
        "[[0 0 1 0 0]\n",
        "\n",
        " [0 0 1 0 0]\n",
        "\n",
        " [1 1 1 1 1]\n",
        "\n",
        " [0 0 1 0 0]\n",
        "\n",
        " [0 0 1 0 0]]"
      ]
    },
    {
      "cell_type": "code",
      "execution_count": null,
      "metadata": {
        "id": "XuDmaDbzmHJX"
      },
      "outputs": [],
      "source": [
        "n=5"
      ]
    },
    {
      "cell_type": "code",
      "execution_count": null,
      "metadata": {
        "id": "PU5TEI7RmHJX",
        "outputId": "0281d14a-b826-42b8-ec65-5223a8deb43a"
      },
      "outputs": [
        {
          "name": "stdout",
          "output_type": "stream",
          "text": [
            "[[0 0 0 0 0]\n",
            " [0 0 0 0 0]\n",
            " [0 0 0 0 0]\n",
            " [0 0 0 0 0]\n",
            " [0 0 0 0 0]]\n"
          ]
        }
      ],
      "source": [
        "import numpy as np\n",
        "\n",
        "# Create an (nxn) array with all zeros\n",
        "z = np.zeros((n,n), dtype='int')\n",
        "print(z)"
      ]
    },
    {
      "cell_type": "code",
      "execution_count": null,
      "metadata": {
        "id": "QHE4dp6pmHJX",
        "outputId": "9c9705e5-c8bd-421d-fe30-e3288b277f02"
      },
      "outputs": [
        {
          "name": "stdout",
          "output_type": "stream",
          "text": [
            "[[0 0 1 0 0]\n",
            " [0 0 1 0 0]\n",
            " [1 1 1 1 1]\n",
            " [0 0 1 0 0]\n",
            " [0 0 1 0 0]]\n"
          ]
        }
      ],
      "source": [
        "# Make the middle row and column all 1s\n",
        "\n",
        "z[n//2,:] = 1\n",
        "z[:,n//2] = 1\n",
        "\n",
        "# Print the final value of z\n",
        "print(z)"
      ]
    },
    {
      "cell_type": "markdown",
      "metadata": {
        "id": "fe2HiQoymHJX"
      },
      "source": [
        "#### Just to help you understand about n//2"
      ]
    },
    {
      "cell_type": "code",
      "execution_count": null,
      "metadata": {
        "id": "S1J9XPAkmHJY"
      },
      "outputs": [],
      "source": [
        "a= np.array([[1,2,3,4,5,6],\n",
        "             [10,20,30,40,50,60],\n",
        "             [12,12,12,12,12,12],\n",
        "             [11,21,31,41,51,61],\n",
        "             [13,24,34,44,54,64]])"
      ]
    },
    {
      "cell_type": "code",
      "execution_count": null,
      "metadata": {
        "id": "1hl-u3bbmHJY",
        "outputId": "751405e2-a2f1-48e9-a03b-1fcd53c9b905"
      },
      "outputs": [
        {
          "data": {
            "text/plain": [
              "array([[ 1,  2,  3,  4,  5,  6],\n",
              "       [10, 20, 30, 40, 50, 60],\n",
              "       [12, 12, 12, 12, 12, 12],\n",
              "       [11, 21, 31, 41, 51, 61],\n",
              "       [13, 24, 34, 44, 54, 64]])"
            ]
          },
          "execution_count": 154,
          "metadata": {},
          "output_type": "execute_result"
        }
      ],
      "source": [
        "a"
      ]
    },
    {
      "cell_type": "code",
      "execution_count": null,
      "metadata": {
        "id": "ZvGmrLkxmHJY",
        "outputId": "40a4ceec-7708-4b7f-c1ea-4703714a09bc"
      },
      "outputs": [
        {
          "name": "stdout",
          "output_type": "stream",
          "text": [
            "[[ 1  2  3  4  5  6]\n",
            " [10 20 30 40 50 60]\n",
            " [ 1  1  1  1  1  1]\n",
            " [11 21 31 41 51 61]\n",
            " [13 24 34 44 54 64]]\n"
          ]
        }
      ],
      "source": [
        "a[5//2,:] = 1\n",
        "print(a)"
      ]
    },
    {
      "cell_type": "code",
      "execution_count": null,
      "metadata": {
        "id": "V1yMg1b5mHJY",
        "outputId": "d6e78d8c-97bf-4ab2-b460-67b79c94425b"
      },
      "outputs": [
        {
          "name": "stdout",
          "output_type": "stream",
          "text": [
            "[[ 1  2  1  4  5  6]\n",
            " [10 20  1 40 50 60]\n",
            " [ 1  1  1  1  1  1]\n",
            " [11 21  1 41 51 61]\n",
            " [13 24  1 44 54 64]]\n"
          ]
        }
      ],
      "source": [
        "a[:,n//2] = 1\n",
        "print(a)"
      ]
    },
    {
      "cell_type": "markdown",
      "metadata": {
        "id": "5C_5kdzLmHJY"
      },
      "source": [
        "## Arithmetic Operations with NumPy - Maths + Stats"
      ]
    },
    {
      "cell_type": "code",
      "execution_count": null,
      "metadata": {
        "id": "HbJ1qmJ2mHJY",
        "outputId": "6df9f240-5738-4ac7-e945-11adfaabf109"
      },
      "outputs": [
        {
          "data": {
            "text/plain": [
              "array([1, 2, 3, 4])"
            ]
          },
          "execution_count": 161,
          "metadata": {},
          "output_type": "execute_result"
        }
      ],
      "source": [
        "a = np.array([1,2,3,4])\n",
        "a"
      ]
    },
    {
      "cell_type": "code",
      "execution_count": null,
      "metadata": {
        "id": "mojzF2XBmHJY"
      },
      "outputs": [],
      "source": [
        "a = a+2"
      ]
    },
    {
      "cell_type": "code",
      "execution_count": null,
      "metadata": {
        "id": "z88MDlSTmHJZ",
        "outputId": "0673c7f0-6414-4e1a-ce87-5bb4cf42f2f8"
      },
      "outputs": [
        {
          "data": {
            "text/plain": [
              "array([ 27,  64, 125, 216], dtype=int32)"
            ]
          },
          "execution_count": 166,
          "metadata": {},
          "output_type": "execute_result"
        }
      ],
      "source": [
        "#DO it for -, /, *, //, ** - ALmost all the operations are satisfied\n",
        "\n",
        "a**3"
      ]
    },
    {
      "cell_type": "code",
      "execution_count": null,
      "metadata": {
        "id": "Dps-RnaUmHJZ",
        "outputId": "95a7c72a-a163-4b0c-8f4e-5b911651d201"
      },
      "outputs": [
        {
          "data": {
            "text/plain": [
              "array([3, 4, 5, 6])"
            ]
          },
          "execution_count": 167,
          "metadata": {},
          "output_type": "execute_result"
        }
      ],
      "source": [
        "a"
      ]
    },
    {
      "cell_type": "code",
      "execution_count": null,
      "metadata": {
        "id": "Ai29si3BmHJZ",
        "outputId": "d4ef145c-dbbe-4540-87ac-92b774a65490"
      },
      "outputs": [
        {
          "data": {
            "text/plain": [
              "3"
            ]
          },
          "execution_count": 168,
          "metadata": {},
          "output_type": "execute_result"
        }
      ],
      "source": [
        "a.min()"
      ]
    },
    {
      "cell_type": "code",
      "execution_count": null,
      "metadata": {
        "id": "tN4Q7EL2mHJZ",
        "outputId": "9880d69d-f4a6-42fe-f784-767d263730c9"
      },
      "outputs": [
        {
          "data": {
            "text/plain": [
              "6"
            ]
          },
          "execution_count": 169,
          "metadata": {},
          "output_type": "execute_result"
        }
      ],
      "source": [
        "a.max()"
      ]
    },
    {
      "cell_type": "code",
      "execution_count": null,
      "metadata": {
        "id": "3cfgSRkEmHJZ",
        "outputId": "7d94a89b-0617-4528-db41-49b449f81bce"
      },
      "outputs": [
        {
          "data": {
            "text/plain": [
              "4.5"
            ]
          },
          "execution_count": 170,
          "metadata": {},
          "output_type": "execute_result"
        }
      ],
      "source": [
        "a.mean()"
      ]
    },
    {
      "cell_type": "code",
      "execution_count": null,
      "metadata": {
        "id": "Isn2jXKXmHJZ",
        "outputId": "49d3c24f-c665-4dd6-b130-ea77ecfb7001"
      },
      "outputs": [
        {
          "data": {
            "text/plain": [
              "array([[1, 2, 3, 4],\n",
              "       [5, 6, 7, 8]])"
            ]
          },
          "execution_count": 172,
          "metadata": {},
          "output_type": "execute_result"
        }
      ],
      "source": [
        "a = np.array([[1,2,3,4], [5,6,7,8]])\n",
        "a"
      ]
    },
    {
      "cell_type": "code",
      "execution_count": null,
      "metadata": {
        "id": "smjBp0QdmHJa",
        "outputId": "c7237ef9-9696-48a0-d353-8e99a8b8805c"
      },
      "outputs": [
        {
          "data": {
            "text/plain": [
              "8"
            ]
          },
          "execution_count": 173,
          "metadata": {},
          "output_type": "execute_result"
        }
      ],
      "source": [
        "np.max(a)"
      ]
    },
    {
      "cell_type": "code",
      "execution_count": null,
      "metadata": {
        "id": "obYVeZ0jmHJa",
        "outputId": "67470c6e-8db9-4e8d-fc12-eac882752222"
      },
      "outputs": [
        {
          "data": {
            "text/plain": [
              "8"
            ]
          },
          "execution_count": 174,
          "metadata": {},
          "output_type": "execute_result"
        }
      ],
      "source": [
        "a.max()"
      ]
    },
    {
      "cell_type": "code",
      "execution_count": null,
      "metadata": {
        "id": "XiWd2ggFmHJa",
        "outputId": "4964bfe3-c32d-4265-c82a-eabd67a93c75"
      },
      "outputs": [
        {
          "data": {
            "text/plain": [
              "1"
            ]
          },
          "execution_count": 175,
          "metadata": {},
          "output_type": "execute_result"
        }
      ],
      "source": [
        "np.min(a)"
      ]
    },
    {
      "cell_type": "code",
      "execution_count": null,
      "metadata": {
        "id": "HAio0X3tmHJa",
        "outputId": "fd2a94cc-6132-47ad-97a3-499cd59c15aa"
      },
      "outputs": [
        {
          "data": {
            "text/plain": [
              "4.5"
            ]
          },
          "execution_count": 176,
          "metadata": {},
          "output_type": "execute_result"
        }
      ],
      "source": [
        "np.mean(a)"
      ]
    },
    {
      "cell_type": "code",
      "execution_count": null,
      "metadata": {
        "id": "Y87eAG4imHJa",
        "outputId": "8467fb51-e5e1-47cc-9ab4-791499903c31"
      },
      "outputs": [
        {
          "data": {
            "text/plain": [
              "36"
            ]
          },
          "execution_count": 72,
          "metadata": {},
          "output_type": "execute_result"
        }
      ],
      "source": [
        "np.sum(a)"
      ]
    },
    {
      "cell_type": "code",
      "execution_count": null,
      "metadata": {
        "id": "Ytiz1D2UmHJa",
        "outputId": "5c422ade-60f8-4768-eec3-262a6bfb9ee7"
      },
      "outputs": [
        {
          "data": {
            "text/plain": [
              "array([4, 8])"
            ]
          },
          "execution_count": 73,
          "metadata": {},
          "output_type": "execute_result"
        }
      ],
      "source": [
        "np.max(a, axis=1)"
      ]
    },
    {
      "cell_type": "code",
      "execution_count": null,
      "metadata": {
        "id": "JAmIy7lfmHJb",
        "outputId": "ac7f5afb-04f0-4907-d4a4-b4d39918a06c"
      },
      "outputs": [
        {
          "data": {
            "text/plain": [
              "array([5, 6, 7, 8])"
            ]
          },
          "execution_count": 74,
          "metadata": {},
          "output_type": "execute_result"
        }
      ],
      "source": [
        "np.max(a, axis=0)"
      ]
    },
    {
      "cell_type": "code",
      "execution_count": null,
      "metadata": {
        "id": "7eXioKj_mHJb",
        "outputId": "6b843fa4-6b14-4f69-a100-7acf63c4f16b"
      },
      "outputs": [
        {
          "data": {
            "text/plain": [
              "array([1, 2, 3, 4])"
            ]
          },
          "execution_count": 75,
          "metadata": {},
          "output_type": "execute_result"
        }
      ],
      "source": [
        "np.min(a, axis=0)"
      ]
    },
    {
      "cell_type": "code",
      "execution_count": null,
      "metadata": {
        "id": "XMYlonKUmHJb",
        "outputId": "cb577d2d-ba9a-4c68-8562-04f4dbc5dba9"
      },
      "outputs": [
        {
          "data": {
            "text/plain": [
              "array([1, 5])"
            ]
          },
          "execution_count": 76,
          "metadata": {},
          "output_type": "execute_result"
        }
      ],
      "source": [
        "np.min(a, axis=1)"
      ]
    },
    {
      "cell_type": "code",
      "execution_count": null,
      "metadata": {
        "id": "uriKFFYEmHJb",
        "outputId": "ca39124b-70ea-4a1f-e4ec-6f2e1929fa84"
      },
      "outputs": [
        {
          "data": {
            "text/plain": [
              "array([10, 26])"
            ]
          },
          "execution_count": 77,
          "metadata": {},
          "output_type": "execute_result"
        }
      ],
      "source": [
        "np.sum(a, axis=1)"
      ]
    },
    {
      "cell_type": "code",
      "execution_count": null,
      "metadata": {
        "id": "6wk_mRSImHJd",
        "outputId": "4fa614bf-dff5-4181-8b4a-e31d6559121e"
      },
      "outputs": [
        {
          "data": {
            "text/plain": [
              "array([ 6,  8, 10, 12])"
            ]
          },
          "execution_count": 78,
          "metadata": {},
          "output_type": "execute_result"
        }
      ],
      "source": [
        "np.sum(a, axis=0)"
      ]
    },
    {
      "cell_type": "code",
      "execution_count": null,
      "metadata": {
        "id": "mpe6dSYLmHJd"
      },
      "outputs": [],
      "source": []
    }
  ],
  "metadata": {
    "kernelspec": {
      "display_name": "Python 3",
      "language": "python",
      "name": "python3"
    },
    "language_info": {
      "codemirror_mode": {
        "name": "ipython",
        "version": 3
      },
      "file_extension": ".py",
      "mimetype": "text/x-python",
      "name": "python",
      "nbconvert_exporter": "python",
      "pygments_lexer": "ipython3",
      "version": "3.7.3"
    },
    "colab": {
      "provenance": []
    }
  },
  "nbformat": 4,
  "nbformat_minor": 0
}